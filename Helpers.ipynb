{
 "cells": [
  {
   "cell_type": "code",
   "execution_count": 1,
   "metadata": {
    "collapsed": false
   },
   "outputs": [
    {
     "name": "stdout",
     "output_type": "stream",
     "text": [
      " 32     40 (   48 0   56 8   64 @   72 H   80 P   88 X   96 `  104 h  112 p  120 x \n",
      " 33 !   41 )   49 1   57 9   65 A   73 I   81 Q   89 Y   97 a  105 i  113 q  121 y \n",
      " 34 \"   42 *   50 2   58 :   66 B   74 J   82 R   90 Z   98 b  106 j  114 r  122 z \n",
      " 35 #   43 +   51 3   59 ;   67 C   75 K   83 S   91 [   99 c  107 k  115 s  123 { \n",
      " 36 $   44 ,   52 4   60 <   68 D   76 L   84 T   92 \\  100 d  108 l  116 t  124 | \n",
      " 37 %   45 -   53 5   61 =   69 E   77 M   85 U   93 ]  101 e  109 m  117 u  125 } \n",
      " 38 &   46 .   54 6   62 >   70 F   78 N   86 V   94 ^  102 f  110 n  118 v  126 ~ \n",
      " 39 '   47 /   55 7   63 ?   71 G   79 O   87 W   95 _  103 g  111 o  119 w  127  \n"
     ]
    }
   ],
   "source": [
    "ascii = [(x, chr(x)) for x in range(32, 128)]\n",
    "for x in range(8):\n",
    "    for z in [\"{0:3} {1} \".format(*y) for y in ascii[x::8]]:\n",
    "        print z,\n",
    "    print"
   ]
  },
  {
   "cell_type": "code",
   "execution_count": 2,
   "metadata": {
    "collapsed": true
   },
   "outputs": [],
   "source": [
    "def extended(encoding):\n",
    "    return [(x, chr(x).decode(encoding, 'replace').encode('utf-8')) for x in range(160, 256)]\n",
    "\n",
    "def print_extended(encoding):\n",
    "    chars = extended(encoding)\n",
    "    for x in range(8):\n",
    "        for z in [\"{0:3} {1} \".format(*y) for y in chars[x::8]]:\n",
    "            print z,\n",
    "        print"
   ]
  },
  {
   "cell_type": "code",
   "execution_count": 3,
   "metadata": {
    "collapsed": false
   },
   "outputs": [
    {
     "name": "stdout",
     "output_type": "stream",
     "text": [
      "160    168 ¨  176 °  184 ¸  192 À  200 È  208 Ð  216 Ø  224 à  232 è  240 ð  248 ø \n",
      "161 ¡  169 ©  177 ±  185 ¹  193 Á  201 É  209 Ñ  217 Ù  225 á  233 é  241 ñ  249 ù \n",
      "162 ¢  170 ª  178 ²  186 º  194 Â  202 Ê  210 Ò  218 Ú  226 â  234 ê  242 ò  250 ú \n",
      "163 £  171 «  179 ³  187 »  195 Ã  203 Ë  211 Ó  219 Û  227 ã  235 ë  243 ó  251 û \n",
      "164 ¤  172 ¬  180 ´  188 ¼  196 Ä  204 Ì  212 Ô  220 Ü  228 ä  236 ì  244 ô  252 ü \n",
      "165 ¥  173 ­  181 µ  189 ½  197 Å  205 Í  213 Õ  221 Ý  229 å  237 í  245 õ  253 ý \n",
      "166 ¦  174 ®  182 ¶  190 ¾  198 Æ  206 Î  214 Ö  222 Þ  230 æ  238 î  246 ö  254 þ \n",
      "167 §  175 ¯  183 ·  191 ¿  199 Ç  207 Ï  215 ×  223 ß  231 ç  239 ï  247 ÷  255 ÿ \n"
     ]
    }
   ],
   "source": [
    "print_extended('latin1')"
   ]
  },
  {
   "cell_type": "code",
   "execution_count": 4,
   "metadata": {
    "collapsed": false
   },
   "outputs": [
    {
     "name": "stdout",
     "output_type": "stream",
     "text": [
      "160    168 ¨  176 °  184 ¸  192 Ŕ  200 Č  208 Đ  216 Ř  224 ŕ  232 č  240 đ  248 ř \n",
      "161 Ą  169 Š  177 ą  185 š  193 Á  201 É  209 Ń  217 Ů  225 á  233 é  241 ń  249 ů \n",
      "162 ˘  170 Ş  178 ˛  186 ş  194 Â  202 Ę  210 Ň  218 Ú  226 â  234 ę  242 ň  250 ú \n",
      "163 Ł  171 Ť  179 ł  187 ť  195 Ă  203 Ë  211 Ó  219 Ű  227 ă  235 ë  243 ó  251 ű \n",
      "164 ¤  172 Ź  180 ´  188 ź  196 Ä  204 Ě  212 Ô  220 Ü  228 ä  236 ě  244 ô  252 ü \n",
      "165 Ľ  173 ­  181 ľ  189 ˝  197 Ĺ  205 Í  213 Ő  221 Ý  229 ĺ  237 í  245 ő  253 ý \n",
      "166 Ś  174 Ž  182 ś  190 ž  198 Ć  206 Î  214 Ö  222 Ţ  230 ć  238 î  246 ö  254 ţ \n",
      "167 §  175 Ż  183 ˇ  191 ż  199 Ç  207 Ď  215 ×  223 ß  231 ç  239 ď  247 ÷  255 ˙ \n"
     ]
    }
   ],
   "source": [
    "print_extended('latin2')"
   ]
  },
  {
   "cell_type": "code",
   "execution_count": 5,
   "metadata": {
    "collapsed": false
   },
   "outputs": [
    {
     "name": "stdout",
     "output_type": "stream",
     "text": [
      "160    168 ¨  176 °  184 Έ  192 ΐ  200 Θ  208 Π  216 Ψ  224 ΰ  232 θ  240 π  248 ψ \n",
      "161 ‘  169 ©  177 ±  185 Ή  193 Α  201 Ι  209 Ρ  217 Ω  225 α  233 ι  241 ρ  249 ω \n",
      "162 ’  170 ͺ  178 ²  186 Ί  194 Β  202 Κ  210 �  218 Ϊ  226 β  234 κ  242 ς  250 ϊ \n",
      "163 £  171 «  179 ³  187 »  195 Γ  203 Λ  211 Σ  219 Ϋ  227 γ  235 λ  243 σ  251 ϋ \n",
      "164 €  172 ¬  180 ΄  188 Ό  196 Δ  204 Μ  212 Τ  220 ά  228 δ  236 μ  244 τ  252 ό \n",
      "165 ₯  173 ­  181 ΅  189 ½  197 Ε  205 Ν  213 Υ  221 έ  229 ε  237 ν  245 υ  253 ύ \n",
      "166 ¦  174 �  182 Ά  190 Ύ  198 Ζ  206 Ξ  214 Φ  222 ή  230 ζ  238 ξ  246 φ  254 ώ \n",
      "167 §  175 ―  183 ·  191 Ώ  199 Η  207 Ο  215 Χ  223 ί  231 η  239 ο  247 χ  255 � \n"
     ]
    }
   ],
   "source": [
    "print_extended('greek')"
   ]
  },
  {
   "cell_type": "code",
   "execution_count": 6,
   "metadata": {
    "collapsed": false
   },
   "outputs": [
    {
     "name": "stdout",
     "output_type": "stream",
     "text": [
      "160   168 ｨ  176 ｰ  184 ｸ  192 ﾀ  200 ﾈ  208 ﾐ  216 ﾘ  224 �  232 �  240 �  248 � \n",
      "161 ｡  169 ｩ  177 ｱ  185 ｹ  193 ﾁ  201 ﾉ  209 ﾑ  217 ﾙ  225 �  233 �  241 �  249 � \n",
      "162 ｢  170 ｪ  178 ｲ  186 ｺ  194 ﾂ  202 ﾊ  210 ﾒ  218 ﾚ  226 �  234 �  242 �  250 � \n",
      "163 ｣  171 ｫ  179 ｳ  187 ｻ  195 ﾃ  203 ﾋ  211 ﾓ  219 ﾛ  227 �  235 �  243 �  251 � \n",
      "164 ､  172 ｬ  180 ｴ  188 ｼ  196 ﾄ  204 ﾌ  212 ﾔ  220 ﾜ  228 �  236 �  244 �  252 � \n",
      "165 ･  173 ｭ  181 ｵ  189 ｽ  197 ﾅ  205 ﾍ  213 ﾕ  221 ﾝ  229 �  237 �  245 �  253  \n",
      "166 ｦ  174 ｮ  182 ｶ  190 ｾ  198 ﾆ  206 ﾎ  214 ﾖ  222 ﾞ  230 �  238 �  246 �  254  \n",
      "167 ｧ  175 ｯ  183 ｷ  191 ｿ  199 ﾇ  207 ﾏ  215 ﾗ  223 ﾟ  231 �  239 �  247 �  255  \n"
     ]
    }
   ],
   "source": [
    "print_extended('cp932')"
   ]
  },
  {
   "cell_type": "code",
   "execution_count": 7,
   "metadata": {
    "collapsed": false
   },
   "outputs": [],
   "source": [
    "import binascii\n",
    "def bytestring(s):\n",
    "    return \" \".join([binascii.hexlify(x) for x in s])\n",
    "    \n",
    "def utf8(u):\n",
    "    return bytestring(u.encode('utf-8'))\n",
    "    \n",
    "def utf16(u):\n",
    "    return bytestring(u.encode('utf-16le'))"
   ]
  },
  {
   "cell_type": "code",
   "execution_count": 8,
   "metadata": {
    "collapsed": false
   },
   "outputs": [
    {
     "name": "stdout",
     "output_type": "stream",
     "text": [
      "48 65 6c 6c 6f 20 57 6f 72 6c 64\n",
      "48 00 65 00 6c 00 6c 00 6f 00 20 00 57 00 6f 00 72 00 6c 00 64 00\n"
     ]
    }
   ],
   "source": [
    "print utf8(u\"Hello World\")\n",
    "print utf16(u\"Hello World\")"
   ]
  },
  {
   "cell_type": "code",
   "execution_count": 9,
   "metadata": {
    "collapsed": false
   },
   "outputs": [
    {
     "name": "stdout",
     "output_type": "stream",
     "text": [
      "'\\xd6\\xd0\\xb9\\xfa\\xd6\\xc6\\xd4\\xec\\xb5\\xc4\\xc1\\xec\\xbe\\xfc\\xd5\\xdf3\\xc3\\xfb'\n",
      "'\\xe4\\xb8\\xad\\xe5\\x9b\\xbd\\xe5\\x88\\xb6\\xe9\\x80\\xa0\\xe7\\x9a\\x84\\xe9\\xa2\\x86\\xe5\\x86\\x9b\\xe8\\x80\\x853\\xe5\\x90\\x8d'\n"
     ]
    }
   ],
   "source": [
    "chinese = u\"中国制造的领军者3名\"\n",
    "cn_gb2312 = chinese.encode(\"gb2312\")\n",
    "cn_utf8 = u\"中国制造的领军者3名\".encode(\"utf-8\")\n",
    "print(repr(cn_gb2312))\n",
    "print(repr(cn_utf8))"
   ]
  },
  {
   "cell_type": "code",
   "execution_count": 10,
   "metadata": {
    "collapsed": false
   },
   "outputs": [
    {
     "name": "stdout",
     "output_type": "stream",
     "text": [
      "'\\xdd\\xea\\xee\\xed\\xee\\xec\\xe8\\xea\\xe0 \\xe8 \\xf4\\xe8\\xed\\xe0\\xed\\xf1\\xfb'\n"
     ]
    }
   ],
   "source": [
    "greek = \"Экономика и финансы\".decode(\"utf-8\")\n",
    "win1251 = greek.encode(\"cp1251\")\n",
    "print repr(win1251)"
   ]
  },
  {
   "cell_type": "code",
   "execution_count": 11,
   "metadata": {
    "collapsed": false
   },
   "outputs": [
    {
     "data": {
      "text/plain": [
       "20"
      ]
     },
     "execution_count": 11,
     "metadata": {},
     "output_type": "execute_result"
    }
   ],
   "source": [
    "languages = \"\"\"外国語の学習と教授\n",
    "Language Learning and Teaching\n",
    "Изучение и обучение иностранных языков\n",
    "Tere Daaheng Aneng Karimah\n",
    "語文教學・语文教学\n",
    "Enseñanza y estudio de idiomas\n",
    "Изучаване и Преподаване на Чужди Езици\n",
    "ქართული ენის შესწავლა და სწავლება\n",
    "'læŋɡwidʒ 'lɘr:niŋ ænd 'ti:tʃiŋ\n",
    "Lus kawm thaib qhia\n",
    "Ngôn Ngữ, Sự học,\n",
    "‭‫ללמוד וללמד את השֵפה\n",
    "L'enseignement et l'étude des langues\n",
    "말배우기와 가르치기\n",
    "Nauka języków obcych\n",
    "Γλωσσική Εκμὰθηση και Διδασκαλία\n",
    "‭‫ﺗﺪﺭﯾﺲ ﻭ ﯾﺎﺩﮔﯿﺮﯼ ﺯﺑﺎﻥ\n",
    "Sprachlernen und -lehren\n",
    "‭‫ﺗﻌﻠﻢ ﻭﺗﺪﺭﻳﺲ ﺍﻟﻌﺮﺑﻴﺔ\n",
    "เรียนและสอนภาษา\"\"\".split(\"\\n\")\n",
    "\n",
    "len(languages)"
   ]
  },
  {
   "cell_type": "code",
   "execution_count": 12,
   "metadata": {
    "collapsed": false
   },
   "outputs": [
    {
     "data": {
      "text/plain": [
       "[{'confidence': 0.99, 'encoding': 'utf-8'},\n",
       " {'confidence': 1.0, 'encoding': 'ascii'},\n",
       " {'confidence': 0.99, 'encoding': 'utf-8'},\n",
       " {'confidence': 1.0, 'encoding': 'ascii'},\n",
       " {'confidence': 0.99, 'encoding': 'utf-8'},\n",
       " {'confidence': 0.823045633287771, 'encoding': 'ISO-8859-2'},\n",
       " {'confidence': 0.99, 'encoding': 'utf-8'},\n",
       " {'confidence': 0.99, 'encoding': 'utf-8'},\n",
       " {'confidence': 0.99, 'encoding': 'utf-8'},\n",
       " {'confidence': 1.0, 'encoding': 'ascii'},\n",
       " {'confidence': 0.938125, 'encoding': 'utf-8'},\n",
       " {'confidence': 0.99, 'encoding': 'utf-8'},\n",
       " {'confidence': 0.9465583917071112, 'encoding': 'ISO-8859-2'},\n",
       " {'confidence': 0.99, 'encoding': 'utf-8'},\n",
       " {'confidence': 0.8095977270813678, 'encoding': 'TIS-620'},\n",
       " {'confidence': 0.99, 'encoding': 'utf-8'},\n",
       " {'confidence': 0.99, 'encoding': 'utf-8'},\n",
       " {'confidence': 1.0, 'encoding': 'ascii'},\n",
       " {'confidence': 0.99, 'encoding': 'utf-8'},\n",
       " {'confidence': 0.99, 'encoding': 'utf-8'}]"
      ]
     },
     "execution_count": 12,
     "metadata": {},
     "output_type": "execute_result"
    }
   ],
   "source": [
    "import chardet\n",
    "[chardet.detect(x) for x in languages]"
   ]
  },
  {
   "cell_type": "code",
   "execution_count": 13,
   "metadata": {
    "collapsed": false
   },
   "outputs": [
    {
     "name": "stdout",
     "output_type": "stream",
     "text": [
      "LATIN SMALL LETTER H\n",
      "COMBINING LEFT TACK BELOW\n",
      "COMBINING INVERTED BRIDGE BELOW\n",
      "COMBINING ASTERISK BELOW\n",
      "COMBINING MACRON BELOW\n",
      "COMBINING BREVE BELOW\n",
      "COMBINING LEFT RIGHT ARROW BELOW\n",
      "COMBINING RIGHT ARROWHEAD BELOW\n",
      "LATIN SMALL LETTER T\n",
      "COMBINING INVERTED DOUBLE ARCH BELOW\n",
      "COMBINING DOUBLE RIGHTWARDS ARROW BELOW\n",
      "LATIN SMALL LETTER T\n",
      "COMBINING PALATALIZED HOOK BELOW\n",
      "COMBINING INVERTED BREVE BELOW\n",
      "LATIN SMALL LETTER P WITH ACUTE\n",
      "COMBINING INVERTED BRIDGE BELOW\n",
      "COMBINING ACUTE ACCENT BELOW\n",
      "COMBINING UP TACK BELOW\n",
      "COMBINING COMMA BELOW\n",
      "COMBINING ASTERISK BELOW\n",
      "COMBINING GREEK YPOGEGRAMMENI\n",
      "LATIN SMALL LETTER S\n",
      "COMBINING GRAVE ACCENT\n",
      "COLON\n",
      "COMBINING ACUTE ACCENT\n",
      "SOLIDUS\n",
      "COMBINING DOUBLE VERTICAL LINE BELOW\n",
      "SOLIDUS\n",
      "COMBINING LEFT ARROWHEAD BELOW\n",
      "COMBINING SEAGULL BELOW\n",
      "COMBINING LEFT ARROWHEAD BELOW\n",
      "COMBINING BREVE BELOW\n",
      "COMBINING COMMA BELOW\n",
      "LATIN SMALL LETTER B\n",
      "LATIN SMALL LETTER E WITH ACUTE\n",
      "LATIN SMALL LETTER T\n",
      "COMBINING GREEK YPOGEGRAMMENI\n",
      "LATIN SMALL LETTER A\n",
      "COMBINING LEFT ANGLE BELOW\n",
      "COMBINING INVERTED DOUBLE ARCH BELOW\n",
      "COMBINING RIGHT HALF RING BELOW\n",
      "COMBINING X BELOW\n",
      "COMBINING DOWN TACK BELOW\n",
      "COMBINING LOW LINE\n",
      "COMBINING GRAVE ACCENT BELOW\n",
      "FULL STOP\n",
      "COMBINING SHORT SOLIDUS OVERLAY\n",
      "LATIN SMALL LETTER F\n",
      "LATIN SMALL LETTER E\n",
      "COMBINING ACUTE ACCENT BELOW\n",
      "COMBINING RING BELOW\n",
      "COMBINING DOWN TACK BELOW\n",
      "COMBINING ASTERISK BELOW\n",
      "COMBINING RING BELOW\n",
      "COMBINING DOUBLE BREVE\n",
      "LATIN SMALL LETTER C\n",
      "COMBINING SHORT SOLIDUS OVERLAY\n",
      "COMBINING LEFT ARROWHEAD BELOW\n",
      "COMBINING INVERTED BRIDGE BELOW\n",
      "COMBINING PLUS SIGN BELOW\n",
      "COMBINING SEAGULL BELOW\n",
      "FULL STOP\n",
      "COMBINING HORN\n",
      "COMBINING RIGHT HALF RING BELOW\n",
      "COMBINING X BELOW\n",
      "COMBINING LOW LINE\n",
      "COMBINING DOUBLE VERTICAL LINE BELOW\n",
      "LATIN SMALL LETTER G\n",
      "COMBINING RIGHT ARROWHEAD AND UP ARROWHEAD BELOW\n",
      "COMBINING MINUS SIGN BELOW\n",
      "COMBINING EQUALS SIGN BELOW\n",
      "COMBINING LEFT ANGLE BELOW\n",
      "COMBINING DOUBLE TILDE\n",
      "LATIN SMALL LETTER O\n",
      "COMBINING PALATALIZED HOOK BELOW\n",
      "COMBINING DOUBLE VERTICAL LINE BELOW\n",
      "COMBINING RIGHT TACK BELOW\n",
      "COMBINING LEFT HALF RING BELOW\n",
      "COMBINING LEFT RIGHT ARROW BELOW\n",
      "COMBINING RIGHT HALF RING BELOW\n",
      "LATIN SMALL LETTER V\n",
      "COMBINING LEFT HALF RING BELOW\n",
      "SOLIDUS\n",
      "COMBINING OGONEK\n",
      "COMBINING UPWARDS ARROW BELOW\n",
      "COMBINING MACRON BELOW\n",
      "COMBINING INVERTED BREVE BELOW\n",
      "COMBINING PLUS SIGN BELOW\n",
      "COMBINING DIAERESIS BELOW\n",
      "COMBINING RIGHT HALF RING BELOW\n",
      "COMBINING INVERTED DOUBLE ARCH BELOW\n"
     ]
    }
   ],
   "source": [
    "a = u\"h̘̺͙̱̮͍͕t̫͢t̡̯ṕ̺̗̝̦͙ͅs̀:́/͈/͔̼͔̮̦bétͅa͉̫̹͓̞̲̖.̷fe̗̥̞͙̥͝c̷͔̺̟̼.̛̹͓̲͈g͖̠͇͉͠o̡͈̙̜͍̹v̜/̨͎̱̯̟̤̹̫\"\n",
    "\n",
    "\n",
    "import unicodedata\n",
    "for x in a:\n",
    "    print(unicodedata.name(x))"
   ]
  },
  {
   "cell_type": "code",
   "execution_count": null,
   "metadata": {
    "collapsed": true
   },
   "outputs": [],
   "source": []
  }
 ],
 "metadata": {
  "kernelspec": {
   "display_name": "Python 2",
   "language": "python",
   "name": "python2"
  },
  "language_info": {
   "codemirror_mode": {
    "name": "ipython",
    "version": 2
   },
   "file_extension": ".py",
   "mimetype": "text/x-python",
   "name": "python",
   "nbconvert_exporter": "python",
   "pygments_lexer": "ipython2",
   "version": "2.7.10"
  }
 },
 "nbformat": 4,
 "nbformat_minor": 0
}
