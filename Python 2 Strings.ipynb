{
 "cells": [
  {
   "cell_type": "markdown",
   "metadata": {
    "collapsed": true,
    "slideshow": {
     "slide_type": "notes"
    }
   },
   "source": [
    "Pre-presentation steps\n",
    "1. Change background color to \"lightskyblue\"\n",
    "2. Restart Kernel\n",
    "3. Clear all Cell Output\n",
    "4. Run cell below"
   ]
  },
  {
   "cell_type": "code",
   "execution_count": 1,
   "metadata": {
    "collapsed": false,
    "slideshow": {
     "slide_type": "notes"
    }
   },
   "outputs": [],
   "source": [
    "# Load some definitions\n",
    "import binascii\n",
    "\n",
    "def bytestring(s):\n",
    "    return \" \".join([binascii.hexlify(x) for x in s])\n",
    "    \n",
    "def utf8(u):\n",
    "    return bytestring(u.encode('utf-8'))\n",
    "    \n",
    "def utf16(u):\n",
    "    return bytestring(u.encode('utf-16le'))"
   ]
  },
  {
   "cell_type": "markdown",
   "metadata": {
    "slideshow": {
     "slide_type": "slide"
    }
   },
   "source": [
    "What is a string?"
   ]
  },
  {
   "cell_type": "code",
   "execution_count": 2,
   "metadata": {
    "collapsed": false,
    "slideshow": {
     "slide_type": "-"
    }
   },
   "outputs": [
    {
     "data": {
      "text/plain": [
       "str"
      ]
     },
     "execution_count": 2,
     "metadata": {},
     "output_type": "execute_result"
    }
   ],
   "source": [
    "type(\"A String\")"
   ]
  },
  {
   "cell_type": "code",
   "execution_count": 3,
   "metadata": {
    "collapsed": false,
    "slideshow": {
     "slide_type": "-"
    }
   },
   "outputs": [
    {
     "data": {
      "text/plain": [
       "(str, unicode)"
      ]
     },
     "execution_count": 3,
     "metadata": {},
     "output_type": "execute_result"
    }
   ],
   "source": [
    "b = b\"A Byte String\"\n",
    "u = u\"A Unicode String\"\n",
    "type(b), type(u)"
   ]
  },
  {
   "cell_type": "markdown",
   "metadata": {
    "slideshow": {
     "slide_type": "slide"
    }
   },
   "source": [
    "Adding `str` and `unicode`"
   ]
  },
  {
   "cell_type": "code",
   "execution_count": 4,
   "metadata": {
    "collapsed": false
   },
   "outputs": [
    {
     "data": {
      "text/plain": [
       "u'bytes_unicode'"
      ]
     },
     "execution_count": 4,
     "metadata": {},
     "output_type": "execute_result"
    }
   ],
   "source": [
    "\"bytes_\" + u\"unicode\""
   ]
  },
  {
   "cell_type": "markdown",
   "metadata": {
    "slideshow": {
     "slide_type": "slide"
    }
   },
   "source": [
    "Encoding and Decoding"
   ]
  },
  {
   "cell_type": "code",
   "execution_count": 5,
   "metadata": {
    "collapsed": false
   },
   "outputs": [
    {
     "name": "stdout",
     "output_type": "stream",
     "text": [
      "dc f1 ee e7 f8 64 e9\n"
     ]
    }
   ],
   "source": [
    "latin1_string = \"\\xdc\\xf1\\xee\\xe7\\xf8d\\xe9\"\n",
    "print bytestring(latin1_string)"
   ]
  },
  {
   "cell_type": "code",
   "execution_count": 6,
   "metadata": {
    "collapsed": false,
    "slideshow": {
     "slide_type": "-"
    }
   },
   "outputs": [
    {
     "ename": "UnicodeDecodeError",
     "evalue": "'ascii' codec can't decode byte 0xdc in position 0: ordinal not in range(128)",
     "output_type": "error",
     "traceback": [
      "\u001b[0;31m---------------------------------------------------------------------------\u001b[0m",
      "\u001b[0;31mUnicodeDecodeError\u001b[0m                        Traceback (most recent call last)",
      "\u001b[0;32m<ipython-input-6-933da01e8842>\u001b[0m in \u001b[0;36m<module>\u001b[0;34m()\u001b[0m\n\u001b[0;32m----> 1\u001b[0;31m \u001b[0mlatin1_string\u001b[0m\u001b[0;34m.\u001b[0m\u001b[0mencode\u001b[0m\u001b[0;34m(\u001b[0m\u001b[0;34m'ascii'\u001b[0m\u001b[0;34m)\u001b[0m\u001b[0;34m\u001b[0m\u001b[0m\n\u001b[0m",
      "\u001b[0;31mUnicodeDecodeError\u001b[0m: 'ascii' codec can't decode byte 0xdc in position 0: ordinal not in range(128)"
     ]
    }
   ],
   "source": [
    "latin1_string.encode('ascii')"
   ]
  },
  {
   "cell_type": "code",
   "execution_count": 7,
   "metadata": {
    "collapsed": false,
    "slideshow": {
     "slide_type": "slide"
    }
   },
   "outputs": [
    {
     "ename": "UnicodeDecodeError",
     "evalue": "'ascii' codec can't decode byte 0xdc in position 0: ordinal not in range(128)",
     "output_type": "error",
     "traceback": [
      "\u001b[0;31m---------------------------------------------------------------------------\u001b[0m",
      "\u001b[0;31mUnicodeDecodeError\u001b[0m                        Traceback (most recent call last)",
      "\u001b[0;32m<ipython-input-7-a223abc98120>\u001b[0m in \u001b[0;36m<module>\u001b[0;34m()\u001b[0m\n\u001b[0;32m----> 1\u001b[0;31m \u001b[0mlatin1_string\u001b[0m\u001b[0;34m.\u001b[0m\u001b[0mencode\u001b[0m\u001b[0;34m(\u001b[0m\u001b[0;34m'utf-8'\u001b[0m\u001b[0;34m)\u001b[0m\u001b[0;34m\u001b[0m\u001b[0m\n\u001b[0m",
      "\u001b[0;31mUnicodeDecodeError\u001b[0m: 'ascii' codec can't decode byte 0xdc in position 0: ordinal not in range(128)"
     ]
    }
   ],
   "source": [
    "latin1_string.encode('utf-8')"
   ]
  },
  {
   "cell_type": "code",
   "execution_count": 8,
   "metadata": {
    "collapsed": false,
    "slideshow": {
     "slide_type": "slide"
    }
   },
   "outputs": [
    {
     "name": "stdout",
     "output_type": "stream",
     "text": [
      "Üñîçødé <type 'unicode'>\n",
      "Üñîçødé <type 'str'>\n"
     ]
    }
   ],
   "source": [
    "unicode_string = latin1_string.decode('latin1')\n",
    "utf8_string = unicode_string.encode('utf8')\n",
    "\n",
    "print unicode_string, type(unicode_string)\n",
    "print utf8_string, type(utf8_string)"
   ]
  },
  {
   "cell_type": "code",
   "execution_count": 9,
   "metadata": {
    "collapsed": false
   },
   "outputs": [
    {
     "name": "stdout",
     "output_type": "stream",
     "text": [
      "<type 'unicode'>\n",
      "<type 'str'>\n"
     ]
    }
   ],
   "source": [
    "print type(unicode_string)\n",
    "print type(utf8_string)"
   ]
  },
  {
   "cell_type": "markdown",
   "metadata": {
    "slideshow": {
     "slide_type": "slide"
    }
   },
   "source": [
    "More Adding `str` and `unicode`"
   ]
  },
  {
   "cell_type": "code",
   "execution_count": 10,
   "metadata": {
    "collapsed": false
   },
   "outputs": [
    {
     "name": "stdout",
     "output_type": "stream",
     "text": [
      "'bytes_\\xdc\\xf1\\xee\\xe7\\xf8d\\xe9' bytes_�����d�\n",
      "u'bytes_\\xdc\\xf1\\xee\\xe7\\xf8d\\xe9' bytes_Üñîçødé\n",
      "'bytes_\\xc3\\x9c\\xc3\\xb1\\xc3\\xae\\xc3\\xa7\\xc3\\xb8d\\xc3\\xa9' bytes_Üñîçødé\n"
     ]
    }
   ],
   "source": [
    "a = \"bytes_\" + latin1_string\n",
    "b = \"bytes_\" + unicode_string\n",
    "c = \"bytes_\" + utf8_string\n",
    "\n",
    "print repr(a), a\n",
    "print repr(b), b\n",
    "print repr(c), c"
   ]
  },
  {
   "cell_type": "markdown",
   "metadata": {
    "slideshow": {
     "slide_type": "slide"
    }
   },
   "source": [
    "System Text Settings"
   ]
  },
  {
   "cell_type": "code",
   "execution_count": 11,
   "metadata": {
    "collapsed": false,
    "slideshow": {
     "slide_type": "-"
    }
   },
   "outputs": [],
   "source": [
    "import sys, locale\n",
    "\n",
    "expressions = \"\"\"\n",
    "        locale.getpreferredencoding()\n",
    "        type(my_file)\n",
    "        my_file.encoding\n",
    "        sys.stdout.isatty()\n",
    "        sys.stdout.encoding\n",
    "        sys.stdin.isatty()\n",
    "        sys.stdin.encoding\n",
    "        sys.stderr.isatty()\n",
    "        sys.stderr.encoding\n",
    "        sys.getdefaultencoding()\n",
    "        sys.getfilesystemencoding()\n",
    "    \"\"\"\n",
    "\n",
    "def get_text_settings():\n",
    "    my_file = open('/tmp/dummy', 'w')\n",
    "\n",
    "    for expression in expressions.split():\n",
    "        value = eval(expression)\n",
    "        print expression.rjust(30), '->', repr(value)"
   ]
  },
  {
   "cell_type": "code",
   "execution_count": 12,
   "metadata": {
    "collapsed": false,
    "slideshow": {
     "slide_type": "slide"
    }
   },
   "outputs": [
    {
     "name": "stdout",
     "output_type": "stream",
     "text": [
      " locale.getpreferredencoding() -> 'UTF-8'\n",
      "                 type(my_file) -> <type 'file'>\n",
      "              my_file.encoding -> None\n",
      "           sys.stdout.isatty() -> False\n",
      "           sys.stdout.encoding -> 'UTF-8'\n",
      "            sys.stdin.isatty() -> False\n",
      "            sys.stdin.encoding -> None\n",
      "           sys.stderr.isatty() -> False\n",
      "           sys.stderr.encoding -> 'UTF-8'\n",
      "      sys.getdefaultencoding() -> 'ascii'\n",
      "   sys.getfilesystemencoding() -> 'utf-8'\n"
     ]
    }
   ],
   "source": [
    "get_text_settings()"
   ]
  },
  {
   "cell_type": "markdown",
   "metadata": {
    "collapsed": true,
    "slideshow": {
     "slide_type": "slide"
    }
   },
   "source": [
    "Detecting Encodings"
   ]
  },
  {
   "cell_type": "code",
   "execution_count": 13,
   "metadata": {
    "collapsed": false,
    "slideshow": {
     "slide_type": "-"
    }
   },
   "outputs": [
    {
     "name": "stdout",
     "output_type": "stream",
     "text": [
      "d6 d0 b9 fa d6 c6 d4 ec b5 c4 c1 ec be fc d5 df 33 c3 fb\n",
      "e4 b8 ad e5 9b bd e5 88 b6 e9 80 a0 e7 9a 84 e9 a2 86 e5 86 9b e8 80 85 33 e5 90 8d\n",
      "{'confidence': 0.99, 'encoding': 'GB2312'}\n",
      "{'confidence': 0.99, 'encoding': 'utf-8'}\n"
     ]
    }
   ],
   "source": [
    "import chardet\n",
    "string1 = '\\xd6\\xd0\\xb9\\xfa\\xd6\\xc6\\xd4\\xec\\xb5\\xc4\\xc1\\xec\\xbe\\xfc\\xd5\\xdf3\\xc3\\xfb'\n",
    "string2 = '\\xe4\\xb8\\xad\\xe5\\x9b\\xbd\\xe5\\x88\\xb6\\xe9\\x80\\xa0\\xe7\\x9a\\x84\\xe9\\xa2\\x86\\xe5\\x86\\x9b\\xe8\\x80\\x853\\xe5\\x90\\x8d'\n",
    "\n",
    "print bytestring(string1)\n",
    "print bytestring(string2)\n",
    "\n",
    "print chardet.detect(string1)\n",
    "print chardet.detect(string2)"
   ]
  },
  {
   "cell_type": "code",
   "execution_count": 14,
   "metadata": {
    "collapsed": false,
    "slideshow": {
     "slide_type": "slide"
    }
   },
   "outputs": [
    {
     "name": "stdout",
     "output_type": "stream",
     "text": [
      "中国制造的领军者3名\n",
      "中国制造的领军者3名\n"
     ]
    }
   ],
   "source": [
    "# Good decoding\n",
    "print string1.decode('GB2312')\n",
    "print string2.decode('utf-8')"
   ]
  },
  {
   "cell_type": "code",
   "execution_count": 15,
   "metadata": {
    "collapsed": false,
    "slideshow": {
     "slide_type": "slide"
    }
   },
   "outputs": [
    {
     "name": "stdout",
     "output_type": "stream",
     "text": [
      "'utf8' codec can't decode byte 0xd6 in position 0: invalid continuation byte\n",
      "'gb2312' codec can't decode bytes in position 2-3: illegal multibyte sequence\n"
     ]
    }
   ],
   "source": [
    "# Bad decoding\n",
    "try:\n",
    "    print string1.decode('utf-8')\n",
    "except Exception as e:\n",
    "    print e\n",
    "try:\n",
    "    print string2.decode('GB2312')\n",
    "except Exception as e:\n",
    "    print e"
   ]
  },
  {
   "cell_type": "code",
   "execution_count": 16,
   "metadata": {
    "collapsed": false,
    "slideshow": {
     "slide_type": "slide"
    }
   },
   "outputs": [
    {
     "name": "stdout",
     "output_type": "stream",
     "text": [
      "�й�����������3��\n",
      "涓���堕�������3��\n"
     ]
    }
   ],
   "source": [
    "# Ugly decoding\n",
    "print string1.decode('utf-8', 'replace')\n",
    "print string2.decode('gb2312', 'replace')"
   ]
  },
  {
   "cell_type": "code",
   "execution_count": 17,
   "metadata": {
    "collapsed": false,
    "slideshow": {
     "slide_type": "slide"
    }
   },
   "outputs": [
    {
     "name": "stdout",
     "output_type": "stream",
     "text": [
      "{'confidence': 0.99, 'encoding': 'MacCyrillic'}\n"
     ]
    }
   ],
   "source": [
    "string = '\\xdd\\xea\\xee\\xed\\xee\\xec\\xe8\\xea\\xe0 \\xe8 \\xf4\\xe8\\xed\\xe0\\xed\\xf1\\xfb'\n",
    "print chardet.detect(string)"
   ]
  },
  {
   "cell_type": "code",
   "execution_count": 18,
   "metadata": {
    "collapsed": false
   },
   "outputs": [
    {
     "name": "stdout",
     "output_type": "stream",
     "text": [
      "Ёкономика и финансы\n",
      "Экономика и финансы\n"
     ]
    }
   ],
   "source": [
    "print string.decode(\"MacCyrillic\")\n",
    "print string.decode(\"cp1251\")"
   ]
  },
  {
   "cell_type": "markdown",
   "metadata": {
    "collapsed": true,
    "slideshow": {
     "slide_type": "slide"
    }
   },
   "source": [
    "Gotcha: Normalization"
   ]
  },
  {
   "cell_type": "code",
   "execution_count": 19,
   "metadata": {
    "collapsed": false,
    "slideshow": {
     "slide_type": "-"
    }
   },
   "outputs": [
    {
     "name": "stdout",
     "output_type": "stream",
     "text": [
      "4 5\n",
      "False\n"
     ]
    }
   ],
   "source": [
    "s1 = u\"café\"\n",
    "s2 = u\"café\"\n",
    "print len(s1), len(s2)\n",
    "print s1 == s2"
   ]
  },
  {
   "cell_type": "code",
   "execution_count": 20,
   "metadata": {
    "collapsed": false,
    "slideshow": {
     "slide_type": "-"
    }
   },
   "outputs": [
    {
     "name": "stdout",
     "output_type": "stream",
     "text": [
      "63 61 66 c3 a9\n",
      "63 61 66 65 cc 81\n",
      "(u'caf\\xe9', u'cafe\\u0301')\n"
     ]
    }
   ],
   "source": [
    "print utf8(s1)\n",
    "print utf8(s2)\n",
    "print repr((s1, s2))"
   ]
  },
  {
   "cell_type": "code",
   "execution_count": null,
   "metadata": {
    "collapsed": true
   },
   "outputs": [],
   "source": []
  },
  {
   "cell_type": "markdown",
   "metadata": {
    "slideshow": {
     "slide_type": "slide"
    }
   },
   "source": [
    "Handing Unicode in the Standard Library "
   ]
  },
  {
   "cell_type": "code",
   "execution_count": 21,
   "metadata": {
    "collapsed": false
   },
   "outputs": [],
   "source": [
    "import os\n",
    "def find(path):\n",
    "    for dirpath, dirnames, filenames in os.walk(path):\n",
    "        for filename in filenames:\n",
    "            print repr(os.path.join(dirpath, filename))"
   ]
  },
  {
   "cell_type": "code",
   "execution_count": 22,
   "metadata": {
    "collapsed": false
   },
   "outputs": [
    {
     "name": "stdout",
     "output_type": "stream",
     "text": [
      "'./Helpers.ipynb'\n",
      "'./Python 2 Strings.ipynb'\n",
      "'./Python 3 Strings.ipynb'\n",
      "'./.ipynb_checkpoints/Helpers-checkpoint.ipynb'\n",
      "'./.ipynb_checkpoints/Python 2 Strings-checkpoint.ipynb'\n",
      "'./.ipynb_checkpoints/Python 3 Strings-checkpoint.ipynb'\n"
     ]
    }
   ],
   "source": [
    "find('.')"
   ]
  },
  {
   "cell_type": "code",
   "execution_count": 23,
   "metadata": {
    "collapsed": false,
    "slideshow": {
     "slide_type": "slide"
    }
   },
   "outputs": [
    {
     "name": "stdout",
     "output_type": "stream",
     "text": [
      "u'./Helpers.ipynb'\n",
      "u'./Python 2 Strings.ipynb'\n",
      "u'./Python 3 Strings.ipynb'\n",
      "u'./.ipynb_checkpoints/Helpers-checkpoint.ipynb'\n",
      "u'./.ipynb_checkpoints/Python 2 Strings-checkpoint.ipynb'\n",
      "u'./.ipynb_checkpoints/Python 3 Strings-checkpoint.ipynb'\n"
     ]
    }
   ],
   "source": [
    "find(u'.')"
   ]
  },
  {
   "cell_type": "markdown",
   "metadata": {
    "collapsed": false,
    "slideshow": {
     "slide_type": "slide"
    }
   },
   "source": [
    "Handling Unicode in Python 2"
   ]
  },
  {
   "cell_type": "code",
   "execution_count": 24,
   "metadata": {
    "collapsed": false
   },
   "outputs": [
    {
     "data": {
      "text/plain": [
       "str"
      ]
     },
     "execution_count": 24,
     "metadata": {},
     "output_type": "execute_result"
    }
   ],
   "source": [
    "# Once you run this, all future execution will behave differently.\n",
    "#from __future__ import unicode_literals\n",
    "type(\"this string has no 'u' prefix\")"
   ]
  },
  {
   "cell_type": "code",
   "execution_count": null,
   "metadata": {
    "collapsed": true
   },
   "outputs": [],
   "source": []
  }
 ],
 "metadata": {
  "celltoolbar": "Slideshow",
  "kernelspec": {
   "display_name": "Python 2",
   "language": "python",
   "name": "python2"
  },
  "language_info": {
   "codemirror_mode": {
    "name": "ipython",
    "version": 2
   },
   "file_extension": ".py",
   "mimetype": "text/x-python",
   "name": "python",
   "nbconvert_exporter": "python",
   "pygments_lexer": "ipython2",
   "version": "2.7.10"
  }
 },
 "nbformat": 4,
 "nbformat_minor": 0
}
